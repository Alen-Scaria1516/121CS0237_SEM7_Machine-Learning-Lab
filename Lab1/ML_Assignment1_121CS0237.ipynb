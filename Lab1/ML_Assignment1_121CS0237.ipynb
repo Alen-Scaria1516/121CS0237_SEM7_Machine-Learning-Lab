{
 "cells": [
  {
   "cell_type": "markdown",
   "metadata": {
    "id": "0XTR_Sew02X3"
   },
   "source": [
    "# Assignment 1 on the Basic Python"
   ]
  },
  {
   "cell_type": "markdown",
   "metadata": {
    "id": "0_iViuxiRmOm"
   },
   "source": [
    "###  Q1.Create a list which should contain values of type float and integer at alternate position."
   ]
  },
  {
   "cell_type": "code",
   "execution_count": 1,
   "metadata": {
    "id": "53GLzHkiSd5y"
   },
   "outputs": [],
   "source": [
    "List=[1, 0.15, 4, 0.5, 3, 0.75, 7]"
   ]
  },
  {
   "cell_type": "code",
   "execution_count": 2,
   "metadata": {
    "colab": {
     "base_uri": "https://localhost:8080/"
    },
    "id": "6QIFHsvfTUiF",
    "outputId": "fd25854b-2382-4ba6-d908-bffd80bef583"
   },
   "outputs": [
    {
     "name": "stdout",
     "output_type": "stream",
     "text": [
      "[0.15, 0.5, 0.75]\n"
     ]
    }
   ],
   "source": [
    "# a)Write single instruction to print all the Float values using negative indexing technique.\n",
    "\n",
    "print([List[i] for i in range(-len(List), 0) if isinstance(List[i], float)])"
   ]
  },
  {
   "cell_type": "code",
   "execution_count": 3,
   "metadata": {
    "colab": {
     "base_uri": "https://localhost:8080/"
    },
    "id": "9Vh9Dq_wUEXN",
    "outputId": "10004988-b613-4d21-ae76-e566b1d0fec6"
   },
   "outputs": [
    {
     "name": "stdout",
     "output_type": "stream",
     "text": [
      "[1, 4, 3, 7]\n"
     ]
    }
   ],
   "source": [
    "# b)Write single instruction to print all the integer values using positive indexing technique.\n",
    "\n",
    "print([List[i] for i in range(len(List)) if isinstance(List[i], int)])"
   ]
  },
  {
   "cell_type": "code",
   "execution_count": 4,
   "metadata": {
    "colab": {
     "base_uri": "https://localhost:8080/"
    },
    "id": "5QsFZ3j2UuNw",
    "outputId": "33d135d6-4188-4086-d5bd-7e4124ce850e"
   },
   "outputs": [
    {
     "name": "stdout",
     "output_type": "stream",
     "text": [
      "Error1: list index out of range\n"
     ]
    }
   ],
   "source": [
    "# c)Show the results of invalid indexing on same data.\n",
    "\n",
    "try:\n",
    "    print(List[10])\n",
    "except IndexError as e:\n",
    "    print(f\"Error1: {e}\")\n",
    "\n",
    "\n"
   ]
  },
  {
   "cell_type": "code",
   "execution_count": 5,
   "metadata": {
    "colab": {
     "base_uri": "https://localhost:8080/"
    },
    "id": "2QpMTKMwVr47",
    "outputId": "ce194978-9b2c-483c-f8ca-6d067b2ce9ea"
   },
   "outputs": [
    {
     "name": "stdin",
     "output_type": "stream",
     "text": [
      "Enter a number:  153\n"
     ]
    },
    {
     "name": "stdout",
     "output_type": "stream",
     "text": [
      "153 is an Armstrong number.\n"
     ]
    }
   ],
   "source": [
    "# Q2.Write a program in python to check whether the number is Armstrong or not ?\n",
    "\n",
    "def is_armstrong(num):\n",
    "    num_to_str = str(num)\n",
    "    num_digits = len(num_to_str)\n",
    "\n",
    "    def power(base, exp):\n",
    "        result = 1\n",
    "        for _ in range(exp):\n",
    "            result *= base\n",
    "        return result\n",
    "\n",
    "    sum_of_powers = 0\n",
    "    for digit in num_to_str:\n",
    "        sum_of_powers += power(int(digit), num_digits)\n",
    "\n",
    "    return sum_of_powers == num\n",
    "\n",
    "num = int(input(\"Enter a number: \"))\n",
    "\n",
    "if is_armstrong(num):\n",
    "    print(f\"{num} is an Armstrong number.\")\n",
    "else:\n",
    "    print(f\"{num} is not an Armstrong number.\")\n"
   ]
  },
  {
   "cell_type": "code",
   "execution_count": 6,
   "metadata": {
    "id": "L-kGZJnjaSJ9"
   },
   "outputs": [],
   "source": [
    "# Q3 a) Create a MLlab class without any variables and methods\n",
    "\n",
    "class MLlab:\n",
    "    pass"
   ]
  },
  {
   "cell_type": "code",
   "execution_count": 7,
   "metadata": {
    "colab": {
     "base_uri": "https://localhost:8080/"
    },
    "id": "lh-WNZVea-YZ",
    "outputId": "8800b771-c39a-4b50-abb6-8a5ea053522e"
   },
   "outputs": [
    {
     "name": "stdout",
     "output_type": "stream",
     "text": [
      "Course Name: Machine Learning\n",
      "Instructor: Tapas Kumar Mishra\n",
      "Lab Number: 109\n"
     ]
    }
   ],
   "source": [
    "# b) Create a child class named ‘MLlab’ that will inherit all of the variables and methods of the ‘Course’ class. Create the instance of child class and access the members from outside the class\n",
    "\n",
    "class Course:\n",
    "    def __init__(self, course_name, instructor):\n",
    "        self.course_name = course_name\n",
    "        self.instructor = instructor\n",
    "\n",
    "    def display_course_info(self):\n",
    "        print(f\"Course Name: {self.course_name}\")\n",
    "        print(f\"Instructor: {self.instructor}\")\n",
    "\n",
    "class MLlab(Course):\n",
    "    def __init__(self, course_name, instructor, lab_number):\n",
    "        super().__init__(course_name, instructor)\n",
    "        self.lab_number = lab_number\n",
    "\n",
    "    def display_lab_info(self):\n",
    "        print(f\"Lab Number: {self.lab_number}\")\n",
    "\n",
    "ml_lab_instance = MLlab(\"Machine Learning\", \"Tapas Kumar Mishra\", 109)\n",
    "\n",
    "ml_lab_instance.display_course_info()\n",
    "\n",
    "ml_lab_instance.display_lab_info()\n"
   ]
  },
  {
   "cell_type": "code",
   "execution_count": 8,
   "metadata": {
    "colab": {
     "base_uri": "https://localhost:8080/"
    },
    "id": "iqZKleokcwL2",
    "outputId": "268f0558-51cc-4342-ced1-392c9d223341"
   },
   "outputs": [
    {
     "name": "stdout",
     "output_type": "stream",
     "text": [
      "From Multiple Inheritence: This is a Machine Learning lab.\n",
      "From Multilevel Inheritence: This is a Machine Learning lab.\n"
     ]
    }
   ],
   "source": [
    "# c) Implement Method overriding concept using Multiple inheritance and Multilevel Inheritance.\n",
    "\n",
    "\n",
    "# Method Overriding with Multiple Inheritance\n",
    "class Course:\n",
    "    def show_info(self):\n",
    "        print(\"This is a course.\")\n",
    "\n",
    "class Lab:\n",
    "    def show_info(self):\n",
    "        print(\"This is a lab.\")\n",
    "\n",
    "class MLlab(Course, Lab):\n",
    "    def show_info(self):\n",
    "        print(\"From Multiple Inheritence: This is a Machine Learning lab.\")\n",
    "\n",
    "ml_lab_instance = MLlab()\n",
    "\n",
    "ml_lab_instance.show_info()\n",
    "\n",
    "\n",
    "# Method Overriding with Multilevel Inheritance\n",
    "class Course:\n",
    "    def show_info(self):\n",
    "        print(\"This is a course.\")\n",
    "\n",
    "class AdvancedCourse(Course):\n",
    "    def show_info(self):\n",
    "        print(\"This is an advanced course.\")\n",
    "\n",
    "class MLlab(AdvancedCourse):\n",
    "    def show_info(self):\n",
    "        print(\"From Multilevel Inheritence: This is a Machine Learning lab.\")\n",
    "\n",
    "ml_lab_instance = MLlab()\n",
    "\n",
    "ml_lab_instance.show_info()\n"
   ]
  },
  {
   "cell_type": "code",
   "execution_count": 9,
   "metadata": {
    "colab": {
     "base_uri": "https://localhost:8080/"
    },
    "id": "Wnui79ZgjKLG",
    "outputId": "e92dc09f-1cab-4e2c-9d2a-8469862a89e9"
   },
   "outputs": [
    {
     "name": "stdout",
     "output_type": "stream",
     "text": [
      "Empty Array:\n",
      "[[0.00e+000 0.00e+000 0.00e+000]\n",
      " [0.00e+000 0.00e+000 8.95e-321]\n",
      " [0.00e+000 0.00e+000 0.00e+000]]\n",
      "Full Array:\n",
      "[[6 6 6]\n",
      " [6 6 6]\n",
      " [6 6 6]]\n"
     ]
    }
   ],
   "source": [
    "# Q4) a)Create empty and full array in python.\n",
    "import numpy as np\n",
    "\n",
    "empty_array = np.empty((3, 3))\n",
    "print(\"Empty Array:\")\n",
    "print(empty_array)\n",
    "\n",
    "full_array = np.full((3, 3), 6)\n",
    "print(\"Full Array:\")\n",
    "print(full_array)\n"
   ]
  },
  {
   "cell_type": "code",
   "execution_count": 10,
   "metadata": {
    "colab": {
     "base_uri": "https://localhost:8080/"
    },
    "id": "yGVdcJwJj2Ef",
    "outputId": "372795ee-8ce9-463e-cb83-bb331b5d5843"
   },
   "outputs": [
    {
     "name": "stdout",
     "output_type": "stream",
     "text": [
      "Two-Dimensional Array:\n",
      "[[1 2 3]\n",
      " [4 5 6]]\n",
      "Flattened Array:\n",
      "[1 2 3 4 5 6]\n"
     ]
    }
   ],
   "source": [
    "# b)Create any Two Dimentional array and then flatten that to one dimension in Python\n",
    "\n",
    "two_d_array = np.array([[1, 2, 3], [4, 5, 6]])\n",
    "print(\"Two-Dimensional Array:\")\n",
    "print(two_d_array)\n",
    "\n",
    "flattened_array = two_d_array.flatten()\n",
    "print(\"Flattened Array:\")\n",
    "print(flattened_array)\n"
   ]
  },
  {
   "cell_type": "code",
   "execution_count": 12,
   "metadata": {
    "colab": {
     "base_uri": "https://localhost:8080/"
    },
    "id": "a4O1daDEkYMV",
    "outputId": "b05c2173-191f-4d00-9efa-939ffef3d87e"
   },
   "outputs": [
    {
     "name": "stdout",
     "output_type": "stream",
     "text": [
      "Array to be saved:\n",
      "[[1 2 3]\n",
      " [4 5 6]]\n",
      "Array saved to 'array.txt'\n"
     ]
    }
   ],
   "source": [
    "# c) Create the array in python and save that to Text File through python program.\n",
    "import numpy as np\n",
    "\n",
    "array = np.array([[1, 2, 3], [4, 5, 6]])\n",
    "print(\"Array to be saved:\")\n",
    "print(array)\n",
    "\n",
    "np.savetxt('array.txt', array, fmt='%d')\n",
    "\n",
    "print(\"Array saved to 'array.txt'\")\n"
   ]
  },
  {
   "cell_type": "code",
   "execution_count": 13,
   "metadata": {
    "colab": {
     "base_uri": "https://localhost:8080/"
    },
    "id": "u9lXCc2wk1zn",
    "outputId": "f3bfe210-acc8-412c-d7ac-cbc81699e3d1"
   },
   "outputs": [
    {
     "name": "stdout",
     "output_type": "stream",
     "text": [
      "Original Array:\n",
      "[[1.3 2.5 3.6 nan]\n",
      " [2.6 3.3 nan 5.5]\n",
      " [2.1 3.2 5.4 6.5]]\n",
      "Array after replacing NaN values with column averages:\n",
      "[[1.3 2.5 3.6 6. ]\n",
      " [2.6 3.3 4.5 5.5]\n",
      " [2.1 3.2 5.4 6.5]]\n"
     ]
    }
   ],
   "source": [
    "# d)Create the array\n",
    "# arr = [[1.3, 2.5, 3.6, np.nan],\n",
    "# [2.6, 3.3, np.nan, 5.5],\n",
    "# [2.1, 3.2, 5.4, 6.5]]\n",
    "# And replace the NAN values with the average of columns.\n",
    "\n",
    "import numpy as np\n",
    "\n",
    "arr = np.array([[1.3, 2.5, 3.6, np.nan],\n",
    "                [2.6, 3.3, np.nan, 5.5],\n",
    "                [2.1, 3.2, 5.4, 6.5]])\n",
    "\n",
    "print(\"Original Array:\")\n",
    "print(arr)\n",
    "\n",
    "col_mean = np.nanmean(arr, axis=0)\n",
    "\n",
    "indices = np.where(np.isnan(arr))\n",
    "\n",
    "arr[indices] = np.take(col_mean, indices[1])\n",
    "\n",
    "print(\"Array after replacing NaN values with column averages:\")\n",
    "print(arr)\n"
   ]
  }
 ],
 "metadata": {
  "colab": {
   "provenance": []
  },
  "kernelspec": {
   "display_name": "Python 3 (ipykernel)",
   "language": "python",
   "name": "python3"
  },
  "language_info": {
   "codemirror_mode": {
    "name": "ipython",
    "version": 3
   },
   "file_extension": ".py",
   "mimetype": "text/x-python",
   "name": "python",
   "nbconvert_exporter": "python",
   "pygments_lexer": "ipython3",
   "version": "3.11.7"
  }
 },
 "nbformat": 4,
 "nbformat_minor": 4
}
